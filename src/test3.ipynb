{
 "cells": [
  {
   "cell_type": "code",
   "execution_count": 1,
   "metadata": {},
   "outputs": [
    {
     "name": "stdout",
     "output_type": "stream",
     "text": [
      "Path: data/imputation_mean/1_year.arff, Shape: (7027, 65)\n",
      "Path: data/imputation_mean/2_year.arff, Shape: (10173, 65)\n",
      "Path: data/imputation_mean/3_year.arff, Shape: (10503, 65)\n",
      "Path: data/imputation_mean/4_year.arff, Shape: (9792, 65)\n",
      "Path: data/imputation_mean/5_year.arff, Shape: (5910, 65)\n"
     ]
    }
   ],
   "source": [
    "# importing libraries \n",
    "# TODO -> Use module for scripts \n",
    "import numpy as np\n",
    "import pandas as pd \n",
    "import dataexp as dtex # our code\n",
    "import dataio as dtio # our code \n",
    "import preprocessing as pre # our code \n",
    "from IPython.display import display\n",
    "from collections import OrderedDict\n",
    "\n",
    "%matplotlib inline\n",
    "extensions = \".arff\"\n",
    "\n",
    "path = \"data/\"\n",
    "year_headers = [\"1_year\" , \"2_year\", \"3_year\" , \"4_year\", \"5_year\"]\n",
    "\n",
    "# save imputation data if files dont exists + retrieve\n",
    "imp_common_path = path + \"imputation\"\n",
    "\n",
    "# get files with .arff extension in path specified\n",
    "files_path = dtio.file_paths(path, extensions)\n",
    "# converts .arff files to dataframes \n",
    "df_years = dtio.arff2df(files_path, True) \n",
    "\n",
    "# create column names \n",
    "columns_name = []\n",
    "for i in range(df_years[0][1].shape[1] - 1):\n",
    "    columns_name.append(\"x\" + str(i + 1))\n",
    "columns_name.append(\"outcome\")\n",
    "\n",
    "\n",
    "def format_dict_dfs(dict_dfs, col_names ,verbose = False):\n",
    "    for i in range(len(dict_dfs)):\n",
    "        dict_dfs[i][1].columns = col_names \n",
    "        dict_dfs[i][1][col_names[:-1]] = dict_dfs[i][1][col_names[:-1]].apply(pd.to_numeric)\n",
    "        dict_dfs[i][1][\"outcome\"] = dict_dfs[i][1][\"outcome\"].astype(\"category\").cat.codes\n",
    "\n",
    "        if(verbose == True):\n",
    "            print(\"Path: {0}, Shape: {1}\".format(dict_dfs[i][0], dict_dfs[i][1].shape))\n",
    "\n",
    "\n",
    "# mean imputation\n",
    "imp_mean_path = imp_common_path + \"_mean/\"\n",
    "imp_mean_dfs = dtio.arff2df(dtio.file_paths(imp_mean_path, extensions), True)  \n",
    "format_dict_dfs(imp_mean_dfs, columns_name, True)\n",
    "\n",
    "imp_dfs_dict = OrderedDict()\n",
    "imp_dfs_dict[\"Mean\"] = [x[1] for x in imp_mean_dfs]"
   ]
  },
  {
   "cell_type": "code",
   "execution_count": 2,
   "metadata": {},
   "outputs": [],
   "source": [
    "from sklearn.model_selection import train_test_split\n",
    "\n",
    "X = imp_dfs_dict[\"Mean\"][0].drop(\"outcome\", axis=1).values\n",
    "y = imp_dfs_dict[\"Mean\"][0][\"outcome\"].values\n",
    "X_train, X_test, y_train, y_test = train_test_split(X, y, test_size = 0.4)\n"
   ]
  },
  {
   "cell_type": "code",
   "execution_count": 6,
   "metadata": {},
   "outputs": [
    {
     "name": "stdout",
     "output_type": "stream",
     "text": [
      "0.0354456901550293\n",
      "0.48979591836734704\n",
      "0.9129221439361572\n",
      "0.48979591836734704\n"
     ]
    }
   ],
   "source": [
    "# # print(np.bincount([0,0,1,1,1,0, 1]).argmax())\n",
    "\n",
    "# from random_forest import RandomForest \n",
    "from sklearn.metrics import accuracy_score \n",
    "\n",
    "# random_forest =  RandomForest(n_estimators = 25, max_features = \"sqrt\")\n",
    "# random_forest.fit(X_train, y_train)\n",
    "# y_pred = random_forest.predict(X_test)\n",
    "\n",
    "# print(y_pred)\n",
    "# print(\"Random Forest: \" + str(accuracy_score(y_test, y_pred)))\n",
    "\n",
    "import decision_tree_criterion \n",
    "\n",
    "iterations =  50000\n",
    "import time\n",
    "\n",
    "y_test = np.array([1,0,1,0,1,1,0] , dtype = np.int8)\n",
    "\n",
    "start = time.time()\n",
    "for i in range(iterations):\n",
    "    x = decision_tree_criterion.binary_gini_impurity(y_test)\n",
    "end = time.time()\n",
    "print(end - start)\n",
    "print(x)\n",
    "\n",
    "start = time.time()\n",
    "for i in range(iterations):\n",
    "    x = decision_tree_criterion.gini_impurity(y_test)\n",
    "end = time.time()\n",
    "print(end - start)\n",
    "print(x)\n",
    "\n",
    "\n",
    "\n",
    "# from decision_tree import DecisionTree\n",
    "# decision_tree = DecisionTree()\n",
    "# decision_tree.fit(X_train, y_train)\n",
    "# y_pred = decision_tree.predict(X_test)\n",
    "# print(\"Decision Tree: \" + str(accuracy_score(y_test, y_pred)))\n",
    "\n",
    "# from sklearn.tree import DecisionTreeClassifier \n",
    "# classifier = DecisionTreeClassifier()\n",
    "# classifier.fit(X_train, y_train)\n",
    "# y_pred = classifier.predict(X_test)\n",
    "# print(\"Decision Tree Sklearn: \" + str(accuracy_score(y_test, y_pred)))\n",
    "\n",
    "\n",
    "# # #print(X_train)\n",
    "\n",
    "# # #instances = np.array(np.concatenate((X_train, np.matrix(y_train).T), axis=1))\n",
    "\n",
    "# # # import time\n",
    "# # # from decision_tree import DecisionTree\n",
    "# # # decision_tree = DecisionTree()\n",
    "# # # start = time.time()\n",
    "# # # decision_tree.fit(X_train, y_train)    \n",
    "# # # end = time.time()\n",
    "# # # print(end - start)"
   ]
  },
  {
   "cell_type": "code",
   "execution_count": null,
   "metadata": {},
   "outputs": [],
   "source": [
    "# y_pred = decision_tree.predict(X_test) \n",
    "# from sklearn.metrics import accuracy_score \n",
    "# print(accuracy_score(y_test, y_pred))\n",
    "\n",
    "\n",
    "# from sklearn.tree import DecisionTreeClassifier \n",
    "# classifier = DecisionTreeClassifier()\n",
    "# classifier.fit(X_train, y_train)\n",
    "\n",
    "# y_pred = classifier.predict(X_test)\n",
    "# print(accuracy_score(y_test, y_pred))\n"
   ]
  }
 ],
 "metadata": {
  "kernelspec": {
   "display_name": "ics5110",
   "language": "python",
   "name": "ics5110"
  },
  "language_info": {
   "codemirror_mode": {
    "name": "ipython",
    "version": 3
   },
   "file_extension": ".py",
   "mimetype": "text/x-python",
   "name": "python",
   "nbconvert_exporter": "python",
   "pygments_lexer": "ipython3",
   "version": "3.7.0"
  }
 },
 "nbformat": 4,
 "nbformat_minor": 2
}

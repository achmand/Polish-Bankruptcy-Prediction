{
 "cells": [
  {
   "cell_type": "code",
   "execution_count": 1,
   "metadata": {},
   "outputs": [],
   "source": [
    "import random_forest as rf\n",
    "from random_forest import Decision\n",
    "import numpy as np"
   ]
  },
  {
   "cell_type": "code",
   "execution_count": 2,
   "metadata": {},
   "outputs": [],
   "source": [
    "training_data = np.array([\n",
    "    ['Green', 3, 'Apple'],\n",
    "    ['Yellow', 3, 'Apple'],\n",
    "    ['Red', 1, 'Grape'],\n",
    "    ['Red', 1, 'Grape'],\n",
    "    ['Yellow', 3, 'Lemon'],\n",
    "],dtype = object)"
   ]
  },
  {
   "cell_type": "code",
   "execution_count": 3,
   "metadata": {},
   "outputs": [
    {
     "name": "stdout",
     "output_type": "stream",
     "text": [
      "{'Apple': 2, 'Grape': 2, 'Lemon': 1}\n"
     ]
    }
   ],
   "source": [
    "y = training_data[:,2]\n",
    "print(rf.category_counts(y))"
   ]
  },
  {
   "cell_type": "code",
   "execution_count": 4,
   "metadata": {},
   "outputs": [
    {
     "data": {
      "text/plain": [
       "compare value: >= 3"
      ]
     },
     "execution_count": 4,
     "metadata": {},
     "output_type": "execute_result"
    }
   ],
   "source": [
    "Decision(1, 3)"
   ]
  },
  {
   "cell_type": "code",
   "execution_count": 5,
   "metadata": {},
   "outputs": [
    {
     "data": {
      "text/plain": [
       "compare value: == Green"
      ]
     },
     "execution_count": 5,
     "metadata": {},
     "output_type": "execute_result"
    }
   ],
   "source": [
    "d = Decision(0, \"Green\")\n",
    "d"
   ]
  },
  {
   "cell_type": "code",
   "execution_count": 6,
   "metadata": {},
   "outputs": [
    {
     "name": "stdout",
     "output_type": "stream",
     "text": [
      "['Green' 3 'Apple']\n"
     ]
    },
    {
     "data": {
      "text/plain": [
       "True"
      ]
     },
     "execution_count": 6,
     "metadata": {},
     "output_type": "execute_result"
    }
   ],
   "source": [
    "print(training_data[0])\n",
    "test_instance = training_data[0]\n",
    "d.compare(test_instance)"
   ]
  },
  {
   "cell_type": "code",
   "execution_count": 7,
   "metadata": {},
   "outputs": [
    {
     "data": {
      "text/plain": [
       "array([['Red', 1, 'Grape'],\n",
       "       ['Red', 1, 'Grape']], dtype=object)"
      ]
     },
     "execution_count": 7,
     "metadata": {},
     "output_type": "execute_result"
    }
   ],
   "source": [
    "true_instances, false_instances = rf.decision_split(training_data, Decision(0, \"Red\"))\n",
    "true_instances"
   ]
  },
  {
   "cell_type": "code",
   "execution_count": 8,
   "metadata": {},
   "outputs": [
    {
     "data": {
      "text/plain": [
       "array([['Green', 3, 'Apple'],\n",
       "       ['Yellow', 3, 'Apple'],\n",
       "       ['Yellow', 3, 'Lemon']], dtype=object)"
      ]
     },
     "execution_count": 8,
     "metadata": {},
     "output_type": "execute_result"
    }
   ],
   "source": [
    "false_instances"
   ]
  },
  {
   "cell_type": "code",
   "execution_count": 9,
   "metadata": {},
   "outputs": [
    {
     "data": {
      "text/plain": [
       "0.0"
      ]
     },
     "execution_count": 9,
     "metadata": {},
     "output_type": "execute_result"
    }
   ],
   "source": [
    "no_mixing = [\"Apple\" , \"Apple\"]\n",
    "rf.gini_impurity(no_mixing)"
   ]
  },
  {
   "cell_type": "code",
   "execution_count": 10,
   "metadata": {},
   "outputs": [
    {
     "data": {
      "text/plain": [
       "0.5"
      ]
     },
     "execution_count": 10,
     "metadata": {},
     "output_type": "execute_result"
    }
   ],
   "source": [
    "some_mixing = [\"Apple\", \"Orange\"]\n",
    "rf.gini_impurity(some_mixing)"
   ]
  },
  {
   "cell_type": "code",
   "execution_count": 11,
   "metadata": {},
   "outputs": [
    {
     "data": {
      "text/plain": [
       "0.7999999999999999"
      ]
     },
     "execution_count": 11,
     "metadata": {},
     "output_type": "execute_result"
    }
   ],
   "source": [
    "lots_of_mixing = [\"Apple\", \"Orange\", \"Grape\", \"Grapefruit\", \"Blueberry\"]\n",
    "rf.gini_impurity(lots_of_mixing)"
   ]
  },
  {
   "cell_type": "code",
   "execution_count": 12,
   "metadata": {},
   "outputs": [
    {
     "data": {
      "text/plain": [
       "0.6399999999999999"
      ]
     },
     "execution_count": 12,
     "metadata": {},
     "output_type": "execute_result"
    }
   ],
   "source": [
    "current_uncertainty = rf.gini_impurity(training_data[:,2])\n",
    "current_uncertainty"
   ]
  },
  {
   "cell_type": "code",
   "execution_count": 13,
   "metadata": {},
   "outputs": [
    {
     "data": {
      "text/plain": [
       "0.1399999999999999"
      ]
     },
     "execution_count": 13,
     "metadata": {},
     "output_type": "execute_result"
    }
   ],
   "source": [
    "true_instances, false_instances = rf.decision_split(training_data, Decision(0,\"Green\"))\n",
    "rf.information_gain(true_instances, false_instances, current_uncertainty)"
   ]
  },
  {
   "cell_type": "code",
   "execution_count": 14,
   "metadata": {},
   "outputs": [
    {
     "data": {
      "text/plain": [
       "0.37333333333333324"
      ]
     },
     "execution_count": 14,
     "metadata": {},
     "output_type": "execute_result"
    }
   ],
   "source": [
    "true_instances, false_instances = rf.decision_split(training_data, Decision(0,\"Red\"))\n",
    "rf.information_gain(true_instances, false_instances, current_uncertainty)"
   ]
  },
  {
   "cell_type": "code",
   "execution_count": 15,
   "metadata": {},
   "outputs": [
    {
     "name": "stdout",
     "output_type": "stream",
     "text": [
      "[['Red' 1 'Grape']\n",
      " ['Red' 1 'Grape']]\n"
     ]
    }
   ],
   "source": [
    "true_instances, false_instances = rf.decision_split(training_data, Decision(0,\"Red\"))\n",
    "print(true_instances)"
   ]
  },
  {
   "cell_type": "code",
   "execution_count": 16,
   "metadata": {},
   "outputs": [
    {
     "name": "stdout",
     "output_type": "stream",
     "text": [
      "[['Green' 3 'Apple']\n",
      " ['Yellow' 3 'Apple']\n",
      " ['Yellow' 3 'Lemon']]\n"
     ]
    }
   ],
   "source": [
    "print(false_instances)"
   ]
  },
  {
   "cell_type": "code",
   "execution_count": 17,
   "metadata": {},
   "outputs": [
    {
     "name": "stdout",
     "output_type": "stream",
     "text": [
      "[['Green' 3 'Apple']]\n"
     ]
    }
   ],
   "source": [
    "true_instances, false_instances = rf.decision_split(training_data, Decision(0,\"Green\"))\n",
    "print(true_instances)"
   ]
  },
  {
   "cell_type": "code",
   "execution_count": 18,
   "metadata": {},
   "outputs": [
    {
     "name": "stdout",
     "output_type": "stream",
     "text": [
      "[['Yellow' 3 'Apple']\n",
      " ['Red' 1 'Grape']\n",
      " ['Red' 1 'Grape']\n",
      " ['Yellow' 3 'Lemon']]\n"
     ]
    }
   ],
   "source": [
    "print(false_instances)"
   ]
  },
  {
   "cell_type": "code",
   "execution_count": 19,
   "metadata": {},
   "outputs": [
    {
     "data": {
      "text/plain": [
       "compare value: == Red"
      ]
     },
     "execution_count": 19,
     "metadata": {},
     "output_type": "execute_result"
    }
   ],
   "source": [
    "best_gain, best_decision = rf.get_split(training_data)\n",
    "best_decision"
   ]
  },
  {
   "cell_type": "code",
   "execution_count": 20,
   "metadata": {},
   "outputs": [],
   "source": [
    "my_tree = rf.construct_tree(training_data)"
   ]
  },
  {
   "cell_type": "code",
   "execution_count": 21,
   "metadata": {},
   "outputs": [
    {
     "data": {
      "text/plain": [
       "{'Apple': 1}"
      ]
     },
     "execution_count": 21,
     "metadata": {},
     "output_type": "execute_result"
    }
   ],
   "source": [
    "rf.classify(training_data[0], my_tree)"
   ]
  },
  {
   "cell_type": "code",
   "execution_count": 25,
   "metadata": {},
   "outputs": [
    {
     "name": "stdout",
     "output_type": "stream",
     "text": [
      "-0.1383060606060606\n",
      "-0.1383060606060606\n",
      "0.9197685718536377\n",
      "0.37870240211486816\n"
     ]
    }
   ],
   "source": [
    "import numpy as np\n",
    "import _decision_tree_criterion as dc\n",
    "x1 = np.array([1,2,1,2,2] , dtype = np.int8)\n",
    "x2 = np.array([1,2,2,2,1,2] , dtype = np.int8)\n",
    "\n",
    "\n",
    "x1_a = np.array([\n",
    "    ['Green', 3, 1],\n",
    "    ['Yellow', 3, 2],\n",
    "    ['Red', 1, 1],\n",
    "    ['Red', 1, 2],\n",
    "        ['Red', 1, 2],\n",
    "],dtype = object)\n",
    "\n",
    "x1_b = np.array([\n",
    "    ['Green', 3, 1],\n",
    "    ['Yellow', 3, 2],\n",
    "    ['Red', 1, 2],\n",
    "    ['Red', 1, 2],\n",
    "    ['Yellow', 3, 1],\n",
    "    ['Yellow', 3, 2],\n",
    "],dtype = object)\n",
    "\n",
    "\n",
    "print(rf.information_gain(x1_a,x1_b,.3223))\n",
    "print(dc.information_gain( x1,x2, .3223))\n",
    "\n",
    "import time\n",
    "\n",
    "start = time.time()\n",
    "for i in range(10000):\n",
    "    rf.information_gain(x1_a,x1_b,1)\n",
    "end = time.time()\n",
    "print(end - start)\n",
    "\n",
    "start = time.time()\n",
    "for i in range(10000):\n",
    "    dc.information_gain( x1,x2, 1)\n",
    "end = time.time()\n",
    "print(end - start)\n",
    "\n"
   ]
  },
  {
   "cell_type": "code",
   "execution_count": null,
   "metadata": {},
   "outputs": [],
   "source": []
  }
 ],
 "metadata": {
  "kernelspec": {
   "display_name": "ics5110",
   "language": "python",
   "name": "ics5110"
  },
  "language_info": {
   "codemirror_mode": {
    "name": "ipython",
    "version": 3
   },
   "file_extension": ".py",
   "mimetype": "text/x-python",
   "name": "python",
   "nbconvert_exporter": "python",
   "pygments_lexer": "ipython3",
   "version": "3.7.0"
  }
 },
 "nbformat": 4,
 "nbformat_minor": 2
}

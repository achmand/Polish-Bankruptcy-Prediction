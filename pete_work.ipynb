{
 "cells": [
  {
   "cell_type": "code",
   "execution_count": 49,
   "metadata": {},
   "outputs": [],
   "source": [
    "# Pete's work\n",
    "from scipy.io import arff\n",
    "from IPython.display import display\n",
    "import os, sys\n",
    "import pandas as pd\n",
    "import seaborn as sns"
   ]
  },
  {
   "cell_type": "code",
   "execution_count": 60,
   "metadata": {},
   "outputs": [],
   "source": [
    "def arff2df (paths):    \n",
    "    data_array = []    \n",
    "    for i in range(len(paths)):\n",
    "        data_array.append((paths[i] ,pd.DataFrame(arff.loadarff(paths[i])[0])))   \n",
    "        \n",
    "    return data_array\n",
    "        \n",
    "def get_filenames (path):\n",
    "    dirs = os.listdir(path)\n",
    "    dirs.sort()\n",
    "    \n",
    "    dirs_array = []\n",
    "    for i in range(len(dirs)):\n",
    "        dirs_array.append(path + dirs[i])\n",
    "        \n",
    "    return dirs_array"
   ]
  },
  {
   "cell_type": "code",
   "execution_count": 82,
   "metadata": {},
   "outputs": [
    {
     "name": "stdout",
     "output_type": "stream",
     "text": [
      "Path: data/1year.arff, Shape: (7027, 65), Bankrupt: 271, Not Bunkrupt: 6756\n",
      "Path: data/2year.arff, Shape: (10173, 65), Bankrupt: 400, Not Bunkrupt: 9773\n",
      "Path: data/3year.arff, Shape: (10503, 65), Bankrupt: 495, Not Bunkrupt: 10008\n",
      "Path: data/4year.arff, Shape: (9792, 65), Bankrupt: 515, Not Bunkrupt: 9277\n",
      "Path: data/5year.arff, Shape: (5910, 65), Bankrupt: 410, Not Bunkrupt: 5500\n"
     ]
    }
   ],
   "source": [
    "path = \"data/\"\n",
    "paths = get_filenames(path)\n",
    "df_years = arff2df(paths) #array of tuples (pathname, dataframe) representing year1 to year5\n",
    "\n",
    "for i in range(len(df_years)):\n",
    "    df_years[i][1][\"class\"] = df_years[i][1][\"class\"].astype(\"category\").cat.codes\n",
    "    print(\"Path: {0}, Shape: {1}, Bankrupt: {2}, Not Bunkrupt: {3}\".format(df_years[i][0], df_years[i][1].shape\n",
    "                                                            ,((df_years[i][1][\"class\"] == 1).sum())\n",
    "                                                            ,((df_years[i][1][\"class\"] == 0).sum())))"
   ]
  },
  {
   "cell_type": "code",
   "execution_count": null,
   "metadata": {},
   "outputs": [],
   "source": []
  }
 ],
 "metadata": {
  "kernelspec": {
   "display_name": "Python 3",
   "language": "python",
   "name": "python3"
  },
  "language_info": {
   "codemirror_mode": {
    "name": "ipython",
    "version": 3
   },
   "file_extension": ".py",
   "mimetype": "text/x-python",
   "name": "python",
   "nbconvert_exporter": "python",
   "pygments_lexer": "ipython3",
   "version": "3.7.0"
  }
 },
 "nbformat": 4,
 "nbformat_minor": 2
}
